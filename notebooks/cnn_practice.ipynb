{
 "cells": [
  {
   "cell_type": "markdown",
   "id": "c6de807e-d9f8-485e-b436-db37f7912642",
   "metadata": {},
   "source": [
    "# Convolutional Neural Network (CNN) Practice"
   ]
  },
  {
   "cell_type": "code",
   "execution_count": 1,
   "id": "a87d1fb7-662e-49e1-b506-646292ae3818",
   "metadata": {},
   "outputs": [
    {
     "name": "stderr",
     "output_type": "stream",
     "text": [
      "2022-11-08 00:39:14.168755: I tensorflow/core/platform/cpu_feature_guard.cc:193] This TensorFlow binary is optimized with oneAPI Deep Neural Network Library (oneDNN) to use the following CPU instructions in performance-critical operations:  AVX2 AVX_VNNI FMA\n",
      "To enable them in other operations, rebuild TensorFlow with the appropriate compiler flags.\n",
      "2022-11-08 00:39:16.555965: I tensorflow/core/util/util.cc:169] oneDNN custom operations are on. You may see slightly different numerical results due to floating-point round-off errors from different computation orders. To turn them off, set the environment variable `TF_ENABLE_ONEDNN_OPTS=0`.\n",
      "2022-11-08 00:39:17.234452: W tensorflow/stream_executor/platform/default/dso_loader.cc:64] Could not load dynamic library 'libcudart.so.11.0'; dlerror: libcudart.so.11.0: cannot open shared object file: No such file or directory\n",
      "2022-11-08 00:39:17.234526: I tensorflow/stream_executor/cuda/cudart_stub.cc:29] Ignore above cudart dlerror if you do not have a GPU set up on your machine.\n",
      "2022-11-08 00:39:17.603702: E tensorflow/stream_executor/cuda/cuda_blas.cc:2981] Unable to register cuBLAS factory: Attempting to register factory for plugin cuBLAS when one has already been registered\n",
      "2022-11-08 00:39:21.887803: W tensorflow/stream_executor/platform/default/dso_loader.cc:64] Could not load dynamic library 'libnvinfer.so.7'; dlerror: libnvinfer.so.7: cannot open shared object file: No such file or directory\n",
      "2022-11-08 00:39:21.888120: W tensorflow/stream_executor/platform/default/dso_loader.cc:64] Could not load dynamic library 'libnvinfer_plugin.so.7'; dlerror: libnvinfer_plugin.so.7: cannot open shared object file: No such file or directory\n",
      "2022-11-08 00:39:21.888155: W tensorflow/compiler/tf2tensorrt/utils/py_utils.cc:38] TF-TRT Warning: Cannot dlopen some TensorRT libraries. If you would like to use Nvidia GPU with TensorRT, please make sure the missing libraries mentioned above are installed properly.\n"
     ]
    }
   ],
   "source": [
    "# Import the tensorflow, keras and fashion MNIST modules\n",
    "import tensorflow as tf\n",
    "from tensorflow import keras\n",
    "from tensorflow.keras.datasets import fashion_mnist"
   ]
  },
  {
   "cell_type": "code",
   "execution_count": 2,
   "id": "3402c55c-b49e-4328-809a-90f693559819",
   "metadata": {},
   "outputs": [],
   "source": [
    "# Load the dataset\n",
    "(training_data, training_labels), (test_data, test_labels) = fashion_mnist.load_data()"
   ]
  },
  {
   "cell_type": "code",
   "execution_count": 3,
   "id": "3e7171e8-4f20-459d-b87f-92095886d4fe",
   "metadata": {},
   "outputs": [],
   "source": [
    "# Normalize the input data\n",
    "training_data = training_data / 255.0\n",
    "test_data = test_data / 255.0"
   ]
  },
  {
   "cell_type": "code",
   "execution_count": 4,
   "id": "04993173-a114-4ad1-90e1-cd1c6d2ecfec",
   "metadata": {},
   "outputs": [
    {
     "name": "stderr",
     "output_type": "stream",
     "text": [
      "2022-11-08 00:39:27.840862: W tensorflow/stream_executor/platform/default/dso_loader.cc:64] Could not load dynamic library 'libcuda.so.1'; dlerror: libcuda.so.1: cannot open shared object file: No such file or directory\n",
      "2022-11-08 00:39:27.842719: W tensorflow/stream_executor/cuda/cuda_driver.cc:263] failed call to cuInit: UNKNOWN ERROR (303)\n",
      "2022-11-08 00:39:27.842770: I tensorflow/stream_executor/cuda/cuda_diagnostics.cc:163] no NVIDIA GPU device is present: /dev/nvidia0 does not exist\n",
      "2022-11-08 00:39:27.846771: I tensorflow/core/platform/cpu_feature_guard.cc:193] This TensorFlow binary is optimized with oneAPI Deep Neural Network Library (oneDNN) to use the following CPU instructions in performance-critical operations:  AVX2 AVX_VNNI FMA\n",
      "To enable them in other operations, rebuild TensorFlow with the appropriate compiler flags.\n"
     ]
    }
   ],
   "source": [
    "# Define the CNN model\n",
    "cnn_model = keras.models.Sequential(\n",
    "    layers=[\n",
    "        keras.layers.Conv2D(32, (3, 3), activation=\"relu\", input_shape=(28, 28, 1)),\n",
    "        keras.layers.MaxPooling2D(2, 2),\n",
    "        keras.layers.Conv2D(32, (3, 3), activation=\"relu\"),\n",
    "        keras.layers.MaxPooling2D(2, 2),\n",
    "        keras.layers.Flatten(),\n",
    "        keras.layers.Dense(128, activation=\"relu\"),\n",
    "        keras.layers.Dense(10, activation=\"softmax\")\n",
    "    ]\n",
    ")"
   ]
  },
  {
   "cell_type": "code",
   "execution_count": 5,
   "id": "a70251a5-1735-4744-8e59-7d9b7fc23834",
   "metadata": {},
   "outputs": [
    {
     "name": "stdout",
     "output_type": "stream",
     "text": [
      "Model: \"sequential\"\n",
      "_________________________________________________________________\n",
      " Layer (type)                Output Shape              Param #   \n",
      "=================================================================\n",
      " conv2d (Conv2D)             (None, 26, 26, 32)        320       \n",
      "                                                                 \n",
      " max_pooling2d (MaxPooling2D  (None, 13, 13, 32)       0         \n",
      " )                                                               \n",
      "                                                                 \n",
      " conv2d_1 (Conv2D)           (None, 11, 11, 32)        9248      \n",
      "                                                                 \n",
      " max_pooling2d_1 (MaxPooling  (None, 5, 5, 32)         0         \n",
      " 2D)                                                             \n",
      "                                                                 \n",
      " flatten (Flatten)           (None, 800)               0         \n",
      "                                                                 \n",
      " dense (Dense)               (None, 128)               102528    \n",
      "                                                                 \n",
      " dense_1 (Dense)             (None, 10)                1290      \n",
      "                                                                 \n",
      "=================================================================\n",
      "Total params: 113,386\n",
      "Trainable params: 113,386\n",
      "Non-trainable params: 0\n",
      "_________________________________________________________________\n"
     ]
    }
   ],
   "source": [
    "# Display the model summary in terms of layers, inputs and outputs\n",
    "cnn_model.summary()"
   ]
  },
  {
   "cell_type": "code",
   "execution_count": 6,
   "id": "f59c75e0-1abe-4d40-98bd-b97e168710ef",
   "metadata": {},
   "outputs": [
    {
     "name": "stdout",
     "output_type": "stream",
     "text": [
      "Epoch 1/5\n",
      "1875/1875 [==============================] - 5s 2ms/step - loss: 0.4773 - accuracy: 0.8277\n",
      "Epoch 2/5\n",
      "1875/1875 [==============================] - 5s 2ms/step - loss: 0.3235 - accuracy: 0.8812\n",
      "Epoch 3/5\n",
      "1875/1875 [==============================] - 4s 2ms/step - loss: 0.2766 - accuracy: 0.8979\n",
      "Epoch 4/5\n",
      "1875/1875 [==============================] - 4s 2ms/step - loss: 0.2466 - accuracy: 0.9091\n",
      "Epoch 5/5\n",
      "1875/1875 [==============================] - 4s 2ms/step - loss: 0.2212 - accuracy: 0.9188\n"
     ]
    },
    {
     "data": {
      "text/plain": [
       "<keras.callbacks.History at 0x7f11eb42e500>"
      ]
     },
     "execution_count": 6,
     "metadata": {},
     "output_type": "execute_result"
    }
   ],
   "source": [
    "# Train the model\n",
    "cnn_model.compile(optimizer=\"adam\", loss=\"sparse_categorical_crossentropy\", metrics=[\"accuracy\"])\n",
    "\n",
    "cnn_model.fit(training_data, training_labels, epochs=5)"
   ]
  },
  {
   "cell_type": "code",
   "execution_count": 7,
   "id": "774c82fc-4390-42fa-ab22-ce865483875b",
   "metadata": {},
   "outputs": [
    {
     "name": "stdout",
     "output_type": "stream",
     "text": [
      "313/313 [==============================] - 0s 886us/step - loss: 0.2725 - accuracy: 0.9019\n"
     ]
    },
    {
     "data": {
      "text/plain": [
       "[0.27254199981689453, 0.9018999934196472]"
      ]
     },
     "execution_count": 7,
     "metadata": {},
     "output_type": "execute_result"
    }
   ],
   "source": [
    "# Evaluate the model performance\n",
    "cnn_model.evaluate(test_data, test_labels)"
   ]
  },
  {
   "cell_type": "markdown",
   "id": "957adac8-2481-420b-b4ab-619d2405bb27",
   "metadata": {
    "jp-MarkdownHeadingCollapsed": true,
    "tags": []
   },
   "source": [
    "## Exercises"
   ]
  },
  {
   "cell_type": "markdown",
   "id": "7cebda0e-4c5b-41b9-b057-77e308ced1d7",
   "metadata": {},
   "source": [
    "## Exercise 1\n",
    "\n",
    "Try editing the convolutions. Change the 32s to either 16 or 64. What impact will this have on accuracy and/or training time?"
   ]
  },
  {
   "cell_type": "code",
   "execution_count": 15,
   "id": "410db8c3-8667-4b4a-b431-8fded450d1aa",
   "metadata": {},
   "outputs": [
    {
     "name": "stdout",
     "output_type": "stream",
     "text": [
      "Epoch 1/5\n",
      "1875/1875 [==============================] - 3s 2ms/step - loss: 0.5085 - accuracy: 0.8140\n",
      "Epoch 2/5\n",
      "1875/1875 [==============================] - 3s 2ms/step - loss: 0.3580 - accuracy: 0.8706\n",
      "Epoch 3/5\n",
      "1875/1875 [==============================] - 3s 2ms/step - loss: 0.3129 - accuracy: 0.8857\n",
      "Epoch 4/5\n",
      "1875/1875 [==============================] - 4s 2ms/step - loss: 0.2841 - accuracy: 0.8944\n",
      "Epoch 5/5\n",
      "1875/1875 [==============================] - 3s 2ms/step - loss: 0.2609 - accuracy: 0.9031\n",
      "313/313 [==============================] - 0s 772us/step - loss: 0.3027 - accuracy: 0.8921\n"
     ]
    },
    {
     "data": {
      "text/plain": [
       "[0.30273929238319397, 0.8920999765396118]"
      ]
     },
     "execution_count": 15,
     "metadata": {},
     "output_type": "execute_result"
    }
   ],
   "source": [
    "cnn_model_2 = keras.models.Sequential(\n",
    "    layers=[\n",
    "        keras.layers.Conv2D(16, (3, 3), activation=\"relu\", input_shape=(28, 28, 1)),\n",
    "        keras.layers.MaxPooling2D(2, 2),\n",
    "        keras.layers.Conv2D(16, (3, 3), activation=\"relu\"),\n",
    "        keras.layers.MaxPooling2D(2, 2),\n",
    "        keras.layers.Flatten(),\n",
    "        keras.layers.Dense(128, activation=\"relu\"),\n",
    "        keras.layers.Dense(10, activation=\"softmax\")\n",
    "    ]\n",
    ")\n",
    "\n",
    "cnn_model_2.compile(optimizer=\"adam\", loss=\"sparse_categorical_crossentropy\", metrics=[\"accuracy\"])\n",
    "\n",
    "cnn_model_2.fit(training_data, training_labels, epochs=5)\n",
    "cnn_model_2.evaluate(test_data, test_labels)"
   ]
  },
  {
   "cell_type": "code",
   "execution_count": 16,
   "id": "9ea69b1d-0926-4bdb-96b9-a1bfa1cb28db",
   "metadata": {},
   "outputs": [
    {
     "name": "stdout",
     "output_type": "stream",
     "text": [
      "Epoch 1/5\n",
      "1875/1875 [==============================] - 14s 8ms/step - loss: 0.4398 - accuracy: 0.8394\n",
      "Epoch 2/5\n",
      "1875/1875 [==============================] - 14s 8ms/step - loss: 0.2953 - accuracy: 0.8926\n",
      "Epoch 3/5\n",
      "1875/1875 [==============================] - 15s 8ms/step - loss: 0.2501 - accuracy: 0.9072\n",
      "Epoch 4/5\n",
      "1875/1875 [==============================] - 14s 8ms/step - loss: 0.2165 - accuracy: 0.9197\n",
      "Epoch 5/5\n",
      "1875/1875 [==============================] - 14s 8ms/step - loss: 0.1915 - accuracy: 0.9287\n",
      "313/313 [==============================] - 1s 2ms/step - loss: 0.2629 - accuracy: 0.9046\n"
     ]
    },
    {
     "data": {
      "text/plain": [
       "[0.26285094022750854, 0.9046000242233276]"
      ]
     },
     "execution_count": 16,
     "metadata": {},
     "output_type": "execute_result"
    }
   ],
   "source": [
    "cnn_model_3 = keras.models.Sequential(\n",
    "    layers=[\n",
    "        keras.layers.Conv2D(64, (3, 3), activation=\"relu\", input_shape=(28, 28, 1)),\n",
    "        keras.layers.MaxPooling2D(2, 2),\n",
    "        keras.layers.Conv2D(64, (3, 3), activation=\"relu\"),\n",
    "        keras.layers.MaxPooling2D(2, 2),\n",
    "        keras.layers.Flatten(),\n",
    "        keras.layers.Dense(128, activation=\"relu\"),\n",
    "        keras.layers.Dense(10, activation=\"softmax\")\n",
    "    ]\n",
    ")\n",
    "\n",
    "cnn_model_3.compile(optimizer=\"adam\", loss=\"sparse_categorical_crossentropy\", metrics=[\"accuracy\"])\n",
    "\n",
    "cnn_model_3.fit(training_data, training_labels, epochs=5)\n",
    "cnn_model_3.evaluate(test_data, test_labels)"
   ]
  },
  {
   "cell_type": "markdown",
   "id": "636cd0d5-af0a-4dee-af13-db33a2201bea",
   "metadata": {},
   "source": [
    "Decreasing the number of convolution filters decreased the accuracy but the training was faster. Increasing the number of convolution filters severely made the training slower. However, the accuracy results are significantly better after just 5 epochs."
   ]
  },
  {
   "cell_type": "markdown",
   "id": "9f5bc4b6-dfed-4241-a889-f65141c54dbf",
   "metadata": {},
   "source": [
    "## Exercise 2\n",
    "\n",
    "Remove the final convolution. What impact will this have on accuracy or training time?"
   ]
  },
  {
   "cell_type": "code",
   "execution_count": 17,
   "id": "76b9a6e1-f2c5-466d-8cb9-ee6c445e8ec9",
   "metadata": {},
   "outputs": [
    {
     "name": "stdout",
     "output_type": "stream",
     "text": [
      "Epoch 1/5\n",
      "1875/1875 [==============================] - 3s 2ms/step - loss: 0.4672 - accuracy: 0.8329\n",
      "Epoch 2/5\n",
      "1875/1875 [==============================] - 3s 2ms/step - loss: 0.3278 - accuracy: 0.8816\n",
      "Epoch 3/5\n",
      "1875/1875 [==============================] - 3s 2ms/step - loss: 0.2890 - accuracy: 0.8941\n",
      "Epoch 4/5\n",
      "1875/1875 [==============================] - 3s 2ms/step - loss: 0.2623 - accuracy: 0.9032\n",
      "Epoch 5/5\n",
      "1875/1875 [==============================] - 3s 2ms/step - loss: 0.2402 - accuracy: 0.9106\n",
      "313/313 [==============================] - 0s 1ms/step - loss: 0.2871 - accuracy: 0.9012\n"
     ]
    },
    {
     "data": {
      "text/plain": [
       "[0.28711146116256714, 0.901199996471405]"
      ]
     },
     "execution_count": 17,
     "metadata": {},
     "output_type": "execute_result"
    }
   ],
   "source": [
    "cnn_model_4 = keras.models.Sequential(\n",
    "    layers=[\n",
    "        keras.layers.Conv2D(32, (3, 3), activation=\"relu\", input_shape=(28, 28, 1)),\n",
    "        keras.layers.MaxPooling2D(2, 2),\n",
    "        keras.layers.MaxPooling2D(2, 2),\n",
    "        keras.layers.Flatten(),\n",
    "        keras.layers.Dense(128, activation=\"relu\"),\n",
    "        keras.layers.Dense(10, activation=\"softmax\")\n",
    "    ]\n",
    ")\n",
    "\n",
    "cnn_model_4.compile(optimizer=\"adam\", loss=\"sparse_categorical_crossentropy\", metrics=[\"accuracy\"])\n",
    "\n",
    "cnn_model_4.fit(training_data, training_labels, epochs=5)\n",
    "cnn_model_4.evaluate(test_data, test_labels)"
   ]
  },
  {
   "cell_type": "markdown",
   "id": "ca6ec6a9-7f32-4df3-8495-932f2ff944e2",
   "metadata": {},
   "source": [
    "Removing the final convolution layer helped improve the training time at each epoch. However, we did not observe a significant change to the accuracy."
   ]
  },
  {
   "cell_type": "markdown",
   "id": "52ed6e31-61a9-44f8-b32e-feb768bf6897",
   "metadata": {},
   "source": [
    "## Exercise 3\n",
    "\n",
    "How about adding more convolutions? What impact do you think this will have? Experiment with it."
   ]
  },
  {
   "cell_type": "code",
   "execution_count": 18,
   "id": "8b45d007-9db4-45b0-b6d7-e7117fd5b406",
   "metadata": {},
   "outputs": [
    {
     "name": "stdout",
     "output_type": "stream",
     "text": [
      "Epoch 1/5\n",
      "1875/1875 [==============================] - 12s 6ms/step - loss: 0.4479 - accuracy: 0.8361\n",
      "Epoch 2/5\n",
      "1875/1875 [==============================] - 12s 6ms/step - loss: 0.2845 - accuracy: 0.8957\n",
      "Epoch 3/5\n",
      "1875/1875 [==============================] - 11s 6ms/step - loss: 0.2356 - accuracy: 0.9133\n",
      "Epoch 4/5\n",
      "1875/1875 [==============================] - 11s 6ms/step - loss: 0.2071 - accuracy: 0.9244\n",
      "Epoch 5/5\n",
      "1875/1875 [==============================] - 12s 6ms/step - loss: 0.1827 - accuracy: 0.9331\n",
      "313/313 [==============================] - 1s 3ms/step - loss: 0.2588 - accuracy: 0.9034\n"
     ]
    },
    {
     "data": {
      "text/plain": [
       "[0.25879111886024475, 0.9034000039100647]"
      ]
     },
     "execution_count": 18,
     "metadata": {},
     "output_type": "execute_result"
    }
   ],
   "source": [
    "cnn_model_5 = keras.models.Sequential(\n",
    "    layers=[\n",
    "        keras.layers.Conv2D(32, (3, 3), activation=\"relu\", input_shape=(28, 28, 1)),\n",
    "        keras.layers.Conv2D(32, (3, 3), activation=\"relu\"),\n",
    "        keras.layers.MaxPooling2D(2, 2),\n",
    "        keras.layers.Conv2D(32, (3, 3), activation=\"relu\"),\n",
    "        keras.layers.MaxPooling2D(2, 2),\n",
    "        keras.layers.Flatten(),\n",
    "        keras.layers.Dense(128, activation=\"relu\"),\n",
    "        keras.layers.Dense(10, activation=\"softmax\")\n",
    "    ]\n",
    ")\n",
    "\n",
    "cnn_model_5.compile(optimizer=\"adam\", loss=\"sparse_categorical_crossentropy\", metrics=[\"accuracy\"])\n",
    "\n",
    "cnn_model_5.fit(training_data, training_labels, epochs=5)\n",
    "cnn_model_5.evaluate(test_data, test_labels)"
   ]
  },
  {
   "cell_type": "code",
   "execution_count": 19,
   "id": "e8f6ef06-34a3-435b-8485-6f8d06ec5e9a",
   "metadata": {},
   "outputs": [
    {
     "name": "stdout",
     "output_type": "stream",
     "text": [
      "Epoch 1/5\n",
      "1875/1875 [==============================] - 12s 6ms/step - loss: 0.4819 - accuracy: 0.8217\n",
      "Epoch 2/5\n",
      "1875/1875 [==============================] - 12s 6ms/step - loss: 0.3064 - accuracy: 0.8872\n",
      "Epoch 3/5\n",
      "1875/1875 [==============================] - 12s 6ms/step - loss: 0.2591 - accuracy: 0.9048\n",
      "Epoch 4/5\n",
      "1875/1875 [==============================] - 12s 6ms/step - loss: 0.2297 - accuracy: 0.9155\n",
      "Epoch 5/5\n",
      "1875/1875 [==============================] - 11s 6ms/step - loss: 0.2061 - accuracy: 0.9227\n",
      "313/313 [==============================] - 1s 2ms/step - loss: 0.2556 - accuracy: 0.9096\n"
     ]
    },
    {
     "data": {
      "text/plain": [
       "[0.2556135952472687, 0.909600019454956]"
      ]
     },
     "execution_count": 19,
     "metadata": {},
     "output_type": "execute_result"
    }
   ],
   "source": [
    "cnn_model_6 = keras.models.Sequential(\n",
    "    layers=[\n",
    "        keras.layers.Conv2D(32, (3, 3), activation=\"relu\", input_shape=(28, 28, 1)),\n",
    "        keras.layers.Conv2D(32, (3, 3), activation=\"relu\"),\n",
    "        keras.layers.MaxPooling2D(2, 2),\n",
    "        keras.layers.Conv2D(32, (3, 3), activation=\"relu\"),\n",
    "        keras.layers.Conv2D(32, (3, 3), activation=\"relu\"),\n",
    "        keras.layers.MaxPooling2D(2, 2),\n",
    "        keras.layers.Flatten(),\n",
    "        keras.layers.Dense(128, activation=\"relu\"),\n",
    "        keras.layers.Dense(10, activation=\"softmax\")\n",
    "    ]\n",
    ")\n",
    "\n",
    "cnn_model_6.compile(optimizer=\"adam\", loss=\"sparse_categorical_crossentropy\", metrics=[\"accuracy\"])\n",
    "\n",
    "cnn_model_6.fit(training_data, training_labels, epochs=5)\n",
    "cnn_model_6.evaluate(test_data, test_labels)"
   ]
  },
  {
   "cell_type": "markdown",
   "id": "8185ff27-a914-4773-a356-c034b3912fb4",
   "metadata": {},
   "source": [
    "Adding 1 and 2 more convolution layer helped with enhancing features furthermore, thus increasing the model accuracy. However, adding more aftera certain point would result in losing accuracy."
   ]
  },
  {
   "cell_type": "markdown",
   "id": "5047a862-4702-4918-9608-688d9797d2f6",
   "metadata": {},
   "source": [
    "## Exercise 4\n",
    "\n",
    "In the previous lesson, you implemented a callback to check on the loss function and to cancel training once it hit a certain amount. See if you can implement that here."
   ]
  },
  {
   "cell_type": "code",
   "execution_count": 25,
   "id": "85483904-bfcf-4c03-823f-61b71591d719",
   "metadata": {},
   "outputs": [
    {
     "name": "stdout",
     "output_type": "stream",
     "text": [
      "Epoch 1/5\n",
      "1875/1875 [==============================] - 4s 2ms/step - loss: 0.4656 - accuracy: 0.8289\n",
      "Epoch 2/5\n",
      "1875/1875 [==============================] - 5s 3ms/step - loss: 0.3101 - accuracy: 0.8860\n",
      "Epoch 3/5\n",
      "1875/1875 [==============================] - 5s 3ms/step - loss: 0.2678 - accuracy: 0.9015\n",
      "313/313 [==============================] - 0s 880us/step - loss: 0.2788 - accuracy: 0.8971\n"
     ]
    },
    {
     "data": {
      "text/plain": [
       "[0.2787977159023285, 0.8970999717712402]"
      ]
     },
     "execution_count": 25,
     "metadata": {},
     "output_type": "execute_result"
    }
   ],
   "source": [
    "class LossCallback(keras.callbacks.Callback):\n",
    "    \n",
    "    def __init__(self, loss):\n",
    "        super().__init__()\n",
    "        self.loss = loss\n",
    "    \n",
    "    def on_epoch_end(self, epoch, logs={}):\n",
    "        if logs.get(\"loss\") <= self.loss:\n",
    "            self.model.stop_training = True\n",
    "\n",
    "callbacks = [LossCallback(0.3)]\n",
    "\n",
    "cnn_model_7 = keras.models.Sequential(\n",
    "    layers=[\n",
    "        keras.layers.Conv2D(32, (3, 3), activation=\"relu\", input_shape=[28, 28, 1]),\n",
    "        keras.layers.MaxPooling2D(2, 2),\n",
    "        keras.layers.Conv2D(32, (3, 3), activation=\"relu\"),\n",
    "        keras.layers.MaxPooling2D(2, 2),\n",
    "        keras.layers.Flatten(),\n",
    "        keras.layers.Dense(128, activation=\"relu\"),\n",
    "        keras.layers.Dense(10, activation=\"softmax\")\n",
    "    ]\n",
    ")\n",
    "\n",
    "cnn_model_7.compile(optimizer=\"adam\", loss=\"sparse_categorical_crossentropy\", metrics=[\"accuracy\"])\n",
    "\n",
    "cnn_model_7.fit(training_data, training_labels, epochs=5, callbacks=callbacks)\n",
    "cnn_model_7.evaluate(test_data, test_labels)"
   ]
  }
 ],
 "metadata": {
  "kernelspec": {
   "display_name": "Python 3 (ipykernel)",
   "language": "python",
   "name": "python3"
  },
  "language_info": {
   "codemirror_mode": {
    "name": "ipython",
    "version": 3
   },
   "file_extension": ".py",
   "mimetype": "text/x-python",
   "name": "python",
   "nbconvert_exporter": "python",
   "pygments_lexer": "ipython3",
   "version": "3.10.8"
  },
  "vscode": {
   "interpreter": {
    "hash": "3c261e837ee295c0cacbc8f46c61d3ea6aec9f3bf640d800d46f8ee9bed421fa"
   }
  }
 },
 "nbformat": 4,
 "nbformat_minor": 5
}
